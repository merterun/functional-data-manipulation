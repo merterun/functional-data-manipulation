{
 "cells": [
  {
   "attachments": {},
   "cell_type": "markdown",
   "id": "36d50716",
   "metadata": {
    "_execution_state": "idle",
    "_uuid": "051d70d956493feee0c6d64651c6a088724dca2a",
    "execution": {
     "iopub.execute_input": "2023-01-19T07:45:04.995267Z",
     "iopub.status.busy": "2023-01-19T07:45:04.993013Z",
     "iopub.status.idle": "2023-01-19T07:45:05.128877Z"
    },
    "papermill": {
     "duration": 0.006091,
     "end_time": "2023-04-09T13:01:35.813164",
     "exception": false,
     "start_time": "2023-04-09T13:01:35.807073",
     "status": "completed"
    },
    "tags": []
   },
   "source": [
    "In this notebook, we will be diving into the world of functional programming in R using the *purrr* library.\n",
    "\n",
    "Functional programming is a programming paradigm that emphasizes the use of functions to transform and manipulate data. The *purrr* library is a powerful tool for functional programming in R, providing a wide range of functions for working with lists, vectors, and other data structures in a functional way.\n",
    "\n",
    "First, let's start by installing and loading the necessary library: *purrr*. You can do this by running the following code:"
   ]
  },
  {
   "cell_type": "code",
   "execution_count": 1,
   "id": "581fc03c",
   "metadata": {
    "execution": {
     "iopub.execute_input": "2023-04-09T13:01:35.826816Z",
     "iopub.status.busy": "2023-04-09T13:01:35.824734Z",
     "iopub.status.idle": "2023-04-09T13:01:35.988608Z",
     "shell.execute_reply": "2023-04-09T13:01:35.986722Z"
    },
    "papermill": {
     "duration": 0.172859,
     "end_time": "2023-04-09T13:01:35.991178",
     "exception": false,
     "start_time": "2023-04-09T13:01:35.818319",
     "status": "completed"
    },
    "tags": [],
    "vscode": {
     "languageId": "r"
    }
   },
   "outputs": [],
   "source": [
    "# load the library\n",
    "library(purrr)"
   ]
  },
  {
   "cell_type": "markdown",
   "id": "04868fac",
   "metadata": {
    "papermill": {
     "duration": 0.004557,
     "end_time": "2023-04-09T13:01:36.000589",
     "exception": false,
     "start_time": "2023-04-09T13:01:35.996032",
     "status": "completed"
    },
    "tags": []
   },
   "source": [
    "Let's create a list of numbers from 1 to 10, we can do this using the *seq* function and the *map* function from the *purrr* library."
   ]
  },
  {
   "cell_type": "code",
   "execution_count": 2,
   "id": "666b3478",
   "metadata": {
    "execution": {
     "iopub.execute_input": "2023-04-09T13:01:36.048818Z",
     "iopub.status.busy": "2023-04-09T13:01:36.011783Z",
     "iopub.status.idle": "2023-04-09T13:01:36.061353Z",
     "shell.execute_reply": "2023-04-09T13:01:36.059511Z"
    },
    "papermill": {
     "duration": 0.058632,
     "end_time": "2023-04-09T13:01:36.063900",
     "exception": false,
     "start_time": "2023-04-09T13:01:36.005268",
     "status": "completed"
    },
    "tags": [],
    "vscode": {
     "languageId": "r"
    }
   },
   "outputs": [],
   "source": [
    "nums <- seq(1, 10)"
   ]
  },
  {
   "cell_type": "code",
   "execution_count": 3,
   "id": "ba15fb2b",
   "metadata": {
    "execution": {
     "iopub.execute_input": "2023-04-09T13:01:36.076430Z",
     "iopub.status.busy": "2023-04-09T13:01:36.074906Z",
     "iopub.status.idle": "2023-04-09T13:01:36.100474Z",
     "shell.execute_reply": "2023-04-09T13:01:36.097767Z"
    },
    "papermill": {
     "duration": 0.034821,
     "end_time": "2023-04-09T13:01:36.103392",
     "exception": false,
     "start_time": "2023-04-09T13:01:36.068571",
     "status": "completed"
    },
    "tags": [],
    "vscode": {
     "languageId": "r"
    }
   },
   "outputs": [
    {
     "data": {
      "text/html": [
       "<style>\n",
       ".list-inline {list-style: none; margin:0; padding: 0}\n",
       ".list-inline>li {display: inline-block}\n",
       ".list-inline>li:not(:last-child)::after {content: \"\\00b7\"; padding: 0 .5ex}\n",
       "</style>\n",
       "<ol class=list-inline><li>1</li><li>2</li><li>3</li><li>4</li><li>5</li><li>6</li><li>7</li><li>8</li><li>9</li><li>10</li></ol>\n"
      ],
      "text/latex": [
       "\\begin{enumerate*}\n",
       "\\item 1\n",
       "\\item 2\n",
       "\\item 3\n",
       "\\item 4\n",
       "\\item 5\n",
       "\\item 6\n",
       "\\item 7\n",
       "\\item 8\n",
       "\\item 9\n",
       "\\item 10\n",
       "\\end{enumerate*}\n"
      ],
      "text/markdown": [
       "1. 1\n",
       "2. 2\n",
       "3. 3\n",
       "4. 4\n",
       "5. 5\n",
       "6. 6\n",
       "7. 7\n",
       "8. 8\n",
       "9. 9\n",
       "10. 10\n",
       "\n",
       "\n"
      ],
      "text/plain": [
       " [1]  1  2  3  4  5  6  7  8  9 10"
      ]
     },
     "metadata": {},
     "output_type": "display_data"
    }
   ],
   "source": [
    "nums"
   ]
  },
  {
   "cell_type": "markdown",
   "id": "72632691",
   "metadata": {
    "papermill": {
     "duration": 0.004748,
     "end_time": "2023-04-09T13:01:36.113097",
     "exception": false,
     "start_time": "2023-04-09T13:01:36.108349",
     "status": "completed"
    },
    "tags": []
   },
   "source": [
    "Now, we can use the *map* function to perform an operation on each element of the list. Let's square each number in the list, we can do this using the following code:"
   ]
  },
  {
   "cell_type": "code",
   "execution_count": 4,
   "id": "77185a9e",
   "metadata": {
    "execution": {
     "iopub.execute_input": "2023-04-09T13:01:36.126182Z",
     "iopub.status.busy": "2023-04-09T13:01:36.124610Z",
     "iopub.status.idle": "2023-04-09T13:01:36.142451Z",
     "shell.execute_reply": "2023-04-09T13:01:36.140467Z"
    },
    "papermill": {
     "duration": 0.027843,
     "end_time": "2023-04-09T13:01:36.145702",
     "exception": false,
     "start_time": "2023-04-09T13:01:36.117859",
     "status": "completed"
    },
    "tags": [],
    "vscode": {
     "languageId": "r"
    }
   },
   "outputs": [],
   "source": [
    "squared_nums <- map(nums, ~ .^2)"
   ]
  },
  {
   "cell_type": "code",
   "execution_count": 5,
   "id": "a98250ad",
   "metadata": {
    "execution": {
     "iopub.execute_input": "2023-04-09T13:01:36.159402Z",
     "iopub.status.busy": "2023-04-09T13:01:36.157887Z",
     "iopub.status.idle": "2023-04-09T13:01:36.180252Z",
     "shell.execute_reply": "2023-04-09T13:01:36.177873Z"
    },
    "papermill": {
     "duration": 0.032975,
     "end_time": "2023-04-09T13:01:36.183553",
     "exception": false,
     "start_time": "2023-04-09T13:01:36.150578",
     "status": "completed"
    },
    "tags": [],
    "vscode": {
     "languageId": "r"
    }
   },
   "outputs": [
    {
     "data": {
      "text/html": [
       "<ol>\n",
       "\t<li>1</li>\n",
       "\t<li>4</li>\n",
       "\t<li>9</li>\n",
       "\t<li>16</li>\n",
       "\t<li>25</li>\n",
       "\t<li>36</li>\n",
       "\t<li>49</li>\n",
       "\t<li>64</li>\n",
       "\t<li>81</li>\n",
       "\t<li>100</li>\n",
       "</ol>\n"
      ],
      "text/latex": [
       "\\begin{enumerate}\n",
       "\\item 1\n",
       "\\item 4\n",
       "\\item 9\n",
       "\\item 16\n",
       "\\item 25\n",
       "\\item 36\n",
       "\\item 49\n",
       "\\item 64\n",
       "\\item 81\n",
       "\\item 100\n",
       "\\end{enumerate}\n"
      ],
      "text/markdown": [
       "1. 1\n",
       "2. 4\n",
       "3. 9\n",
       "4. 16\n",
       "5. 25\n",
       "6. 36\n",
       "7. 49\n",
       "8. 64\n",
       "9. 81\n",
       "10. 100\n",
       "\n",
       "\n"
      ],
      "text/plain": [
       "[[1]]\n",
       "[1] 1\n",
       "\n",
       "[[2]]\n",
       "[1] 4\n",
       "\n",
       "[[3]]\n",
       "[1] 9\n",
       "\n",
       "[[4]]\n",
       "[1] 16\n",
       "\n",
       "[[5]]\n",
       "[1] 25\n",
       "\n",
       "[[6]]\n",
       "[1] 36\n",
       "\n",
       "[[7]]\n",
       "[1] 49\n",
       "\n",
       "[[8]]\n",
       "[1] 64\n",
       "\n",
       "[[9]]\n",
       "[1] 81\n",
       "\n",
       "[[10]]\n",
       "[1] 100\n"
      ]
     },
     "metadata": {},
     "output_type": "display_data"
    }
   ],
   "source": [
    "squared_nums"
   ]
  },
  {
   "cell_type": "markdown",
   "id": "0cda1dd6",
   "metadata": {
    "papermill": {
     "duration": 0.005353,
     "end_time": "2023-04-09T13:01:36.194108",
     "exception": false,
     "start_time": "2023-04-09T13:01:36.188755",
     "status": "completed"
    },
    "tags": []
   },
   "source": [
    "The *map* function takes two arguments: the first is the list on which to operate, and the second is the function to apply to each element of the list. The ~ symbol is used to create an anonymous function.\n",
    "\n",
    "We can also use the *map_dbl* function to convert the list to a numeric vector."
   ]
  },
  {
   "cell_type": "code",
   "execution_count": 6,
   "id": "d7b89e60",
   "metadata": {
    "execution": {
     "iopub.execute_input": "2023-04-09T13:01:36.208506Z",
     "iopub.status.busy": "2023-04-09T13:01:36.206906Z",
     "iopub.status.idle": "2023-04-09T13:01:36.222086Z",
     "shell.execute_reply": "2023-04-09T13:01:36.220303Z"
    },
    "papermill": {
     "duration": 0.025796,
     "end_time": "2023-04-09T13:01:36.225369",
     "exception": false,
     "start_time": "2023-04-09T13:01:36.199573",
     "status": "completed"
    },
    "tags": [],
    "vscode": {
     "languageId": "r"
    }
   },
   "outputs": [],
   "source": [
    "squared_nums_dbl <- map_dbl(nums, ~ .^2)"
   ]
  },
  {
   "cell_type": "code",
   "execution_count": 7,
   "id": "f56cc015",
   "metadata": {
    "execution": {
     "iopub.execute_input": "2023-04-09T13:01:36.238779Z",
     "iopub.status.busy": "2023-04-09T13:01:36.237239Z",
     "iopub.status.idle": "2023-04-09T13:01:36.262081Z",
     "shell.execute_reply": "2023-04-09T13:01:36.259740Z"
    },
    "papermill": {
     "duration": 0.034931,
     "end_time": "2023-04-09T13:01:36.265299",
     "exception": false,
     "start_time": "2023-04-09T13:01:36.230368",
     "status": "completed"
    },
    "tags": [],
    "vscode": {
     "languageId": "r"
    }
   },
   "outputs": [
    {
     "data": {
      "text/html": [
       "<style>\n",
       ".list-inline {list-style: none; margin:0; padding: 0}\n",
       ".list-inline>li {display: inline-block}\n",
       ".list-inline>li:not(:last-child)::after {content: \"\\00b7\"; padding: 0 .5ex}\n",
       "</style>\n",
       "<ol class=list-inline><li>1</li><li>4</li><li>9</li><li>16</li><li>25</li><li>36</li><li>49</li><li>64</li><li>81</li><li>100</li></ol>\n"
      ],
      "text/latex": [
       "\\begin{enumerate*}\n",
       "\\item 1\n",
       "\\item 4\n",
       "\\item 9\n",
       "\\item 16\n",
       "\\item 25\n",
       "\\item 36\n",
       "\\item 49\n",
       "\\item 64\n",
       "\\item 81\n",
       "\\item 100\n",
       "\\end{enumerate*}\n"
      ],
      "text/markdown": [
       "1. 1\n",
       "2. 4\n",
       "3. 9\n",
       "4. 16\n",
       "5. 25\n",
       "6. 36\n",
       "7. 49\n",
       "8. 64\n",
       "9. 81\n",
       "10. 100\n",
       "\n",
       "\n"
      ],
      "text/plain": [
       " [1]   1   4   9  16  25  36  49  64  81 100"
      ]
     },
     "metadata": {},
     "output_type": "display_data"
    }
   ],
   "source": [
    "squared_nums_dbl"
   ]
  },
  {
   "cell_type": "markdown",
   "id": "5f1af6a9",
   "metadata": {
    "papermill": {
     "duration": 0.005342,
     "end_time": "2023-04-09T13:01:36.275947",
     "exception": false,
     "start_time": "2023-04-09T13:01:36.270605",
     "status": "completed"
    },
    "tags": []
   },
   "source": [
    "This function will also convert the result to a numeric vector.\n",
    "\n",
    "We can also use the *filter* function to keep only the elements of the list that match a certain condition. Let's keep only the even numbers from the list:"
   ]
  },
  {
   "cell_type": "code",
   "execution_count": 8,
   "id": "addec0a2",
   "metadata": {
    "execution": {
     "iopub.execute_input": "2023-04-09T13:01:36.289656Z",
     "iopub.status.busy": "2023-04-09T13:01:36.288141Z",
     "iopub.status.idle": "2023-04-09T13:01:36.302509Z",
     "shell.execute_reply": "2023-04-09T13:01:36.300818Z"
    },
    "papermill": {
     "duration": 0.024456,
     "end_time": "2023-04-09T13:01:36.305669",
     "exception": false,
     "start_time": "2023-04-09T13:01:36.281213",
     "status": "completed"
    },
    "tags": [],
    "vscode": {
     "languageId": "r"
    }
   },
   "outputs": [],
   "source": [
    "even_nums <- nums[nums %% 2 == 0]"
   ]
  },
  {
   "cell_type": "code",
   "execution_count": 9,
   "id": "eabccead",
   "metadata": {
    "execution": {
     "iopub.execute_input": "2023-04-09T13:01:36.319480Z",
     "iopub.status.busy": "2023-04-09T13:01:36.317902Z",
     "iopub.status.idle": "2023-04-09T13:01:36.336568Z",
     "shell.execute_reply": "2023-04-09T13:01:36.334390Z"
    },
    "papermill": {
     "duration": 0.029175,
     "end_time": "2023-04-09T13:01:36.339919",
     "exception": false,
     "start_time": "2023-04-09T13:01:36.310744",
     "status": "completed"
    },
    "tags": [],
    "vscode": {
     "languageId": "r"
    }
   },
   "outputs": [
    {
     "data": {
      "text/html": [
       "<style>\n",
       ".list-inline {list-style: none; margin:0; padding: 0}\n",
       ".list-inline>li {display: inline-block}\n",
       ".list-inline>li:not(:last-child)::after {content: \"\\00b7\"; padding: 0 .5ex}\n",
       "</style>\n",
       "<ol class=list-inline><li>2</li><li>4</li><li>6</li><li>8</li><li>10</li></ol>\n"
      ],
      "text/latex": [
       "\\begin{enumerate*}\n",
       "\\item 2\n",
       "\\item 4\n",
       "\\item 6\n",
       "\\item 8\n",
       "\\item 10\n",
       "\\end{enumerate*}\n"
      ],
      "text/markdown": [
       "1. 2\n",
       "2. 4\n",
       "3. 6\n",
       "4. 8\n",
       "5. 10\n",
       "\n",
       "\n"
      ],
      "text/plain": [
       "[1]  2  4  6  8 10"
      ]
     },
     "metadata": {},
     "output_type": "display_data"
    }
   ],
   "source": [
    "even_nums"
   ]
  },
  {
   "cell_type": "markdown",
   "id": "b39e63a7",
   "metadata": {
    "papermill": {
     "duration": 0.005333,
     "end_time": "2023-04-09T13:01:36.350642",
     "exception": false,
     "start_time": "2023-04-09T13:01:36.345309",
     "status": "completed"
    },
    "tags": []
   },
   "source": [
    "The *filter* function takes two arguments: the first is the list on which to operate, and the second is the function that returns a logical value indicating whether to keep or discard each element of the list.\n",
    "\n",
    "We can also use the *reduce* function to combine the elements of the list into a single value. Let's sum all the numbers in the list."
   ]
  },
  {
   "cell_type": "code",
   "execution_count": 10,
   "id": "9b9f8870",
   "metadata": {
    "execution": {
     "iopub.execute_input": "2023-04-09T13:01:36.365155Z",
     "iopub.status.busy": "2023-04-09T13:01:36.363630Z",
     "iopub.status.idle": "2023-04-09T13:01:36.385245Z",
     "shell.execute_reply": "2023-04-09T13:01:36.383369Z"
    },
    "papermill": {
     "duration": 0.0327,
     "end_time": "2023-04-09T13:01:36.388668",
     "exception": false,
     "start_time": "2023-04-09T13:01:36.355968",
     "status": "completed"
    },
    "tags": [],
    "vscode": {
     "languageId": "r"
    }
   },
   "outputs": [],
   "source": [
    "sum_nums <- reduce(nums, `+`)"
   ]
  },
  {
   "cell_type": "code",
   "execution_count": 11,
   "id": "ba758c97",
   "metadata": {
    "execution": {
     "iopub.execute_input": "2023-04-09T13:01:36.403403Z",
     "iopub.status.busy": "2023-04-09T13:01:36.401877Z",
     "iopub.status.idle": "2023-04-09T13:01:36.421898Z",
     "shell.execute_reply": "2023-04-09T13:01:36.419221Z"
    },
    "papermill": {
     "duration": 0.030361,
     "end_time": "2023-04-09T13:01:36.424993",
     "exception": false,
     "start_time": "2023-04-09T13:01:36.394632",
     "status": "completed"
    },
    "tags": [],
    "vscode": {
     "languageId": "r"
    }
   },
   "outputs": [
    {
     "data": {
      "text/html": [
       "55"
      ],
      "text/latex": [
       "55"
      ],
      "text/markdown": [
       "55"
      ],
      "text/plain": [
       "[1] 55"
      ]
     },
     "metadata": {},
     "output_type": "display_data"
    }
   ],
   "source": [
    "sum_nums"
   ]
  },
  {
   "cell_type": "markdown",
   "id": "090caf78",
   "metadata": {
    "papermill": {
     "duration": 0.006244,
     "end_time": "2023-04-09T13:01:36.436793",
     "exception": false,
     "start_time": "2023-04-09T13:01:36.430549",
     "status": "completed"
    },
    "tags": []
   },
   "source": [
    "The reduce function takes two arguments: the first is the list on which to operate, and the second is the function to apply to the elements of the list.\n",
    "\n",
    "We can also use the *pmap* function to apply a function to multiple lists element-wise. Let's create two lists, one with numbers from 1 to 5 and another with numbers from 6 to 10 and we will add them element-wise."
   ]
  },
  {
   "cell_type": "code",
   "execution_count": 12,
   "id": "ba606ae8",
   "metadata": {
    "execution": {
     "iopub.execute_input": "2023-04-09T13:01:36.451366Z",
     "iopub.status.busy": "2023-04-09T13:01:36.449861Z",
     "iopub.status.idle": "2023-04-09T13:01:36.465306Z",
     "shell.execute_reply": "2023-04-09T13:01:36.463420Z"
    },
    "papermill": {
     "duration": 0.025285,
     "end_time": "2023-04-09T13:01:36.467838",
     "exception": false,
     "start_time": "2023-04-09T13:01:36.442553",
     "status": "completed"
    },
    "tags": [],
    "vscode": {
     "languageId": "r"
    }
   },
   "outputs": [],
   "source": [
    "list1 <- seq(1, 5)\n",
    "list2 <- seq(6, 10)"
   ]
  },
  {
   "cell_type": "code",
   "execution_count": 13,
   "id": "cfbf1b1f",
   "metadata": {
    "execution": {
     "iopub.execute_input": "2023-04-09T13:01:36.482847Z",
     "iopub.status.busy": "2023-04-09T13:01:36.481187Z",
     "iopub.status.idle": "2023-04-09T13:01:36.510193Z",
     "shell.execute_reply": "2023-04-09T13:01:36.504065Z"
    },
    "papermill": {
     "duration": 0.039431,
     "end_time": "2023-04-09T13:01:36.512878",
     "exception": false,
     "start_time": "2023-04-09T13:01:36.473447",
     "status": "completed"
    },
    "tags": [],
    "vscode": {
     "languageId": "r"
    }
   },
   "outputs": [
    {
     "data": {
      "text/html": [
       "<style>\n",
       ".list-inline {list-style: none; margin:0; padding: 0}\n",
       ".list-inline>li {display: inline-block}\n",
       ".list-inline>li:not(:last-child)::after {content: \"\\00b7\"; padding: 0 .5ex}\n",
       "</style>\n",
       "<ol class=list-inline><li>1</li><li>2</li><li>3</li><li>4</li><li>5</li></ol>\n"
      ],
      "text/latex": [
       "\\begin{enumerate*}\n",
       "\\item 1\n",
       "\\item 2\n",
       "\\item 3\n",
       "\\item 4\n",
       "\\item 5\n",
       "\\end{enumerate*}\n"
      ],
      "text/markdown": [
       "1. 1\n",
       "2. 2\n",
       "3. 3\n",
       "4. 4\n",
       "5. 5\n",
       "\n",
       "\n"
      ],
      "text/plain": [
       "[1] 1 2 3 4 5"
      ]
     },
     "metadata": {},
     "output_type": "display_data"
    },
    {
     "data": {
      "text/html": [
       "<style>\n",
       ".list-inline {list-style: none; margin:0; padding: 0}\n",
       ".list-inline>li {display: inline-block}\n",
       ".list-inline>li:not(:last-child)::after {content: \"\\00b7\"; padding: 0 .5ex}\n",
       "</style>\n",
       "<ol class=list-inline><li>6</li><li>7</li><li>8</li><li>9</li><li>10</li></ol>\n"
      ],
      "text/latex": [
       "\\begin{enumerate*}\n",
       "\\item 6\n",
       "\\item 7\n",
       "\\item 8\n",
       "\\item 9\n",
       "\\item 10\n",
       "\\end{enumerate*}\n"
      ],
      "text/markdown": [
       "1. 6\n",
       "2. 7\n",
       "3. 8\n",
       "4. 9\n",
       "5. 10\n",
       "\n",
       "\n"
      ],
      "text/plain": [
       "[1]  6  7  8  9 10"
      ]
     },
     "metadata": {},
     "output_type": "display_data"
    }
   ],
   "source": [
    "list1\n",
    "list2"
   ]
  },
  {
   "cell_type": "code",
   "execution_count": 14,
   "id": "9fa39132",
   "metadata": {
    "execution": {
     "iopub.execute_input": "2023-04-09T13:01:36.528001Z",
     "iopub.status.busy": "2023-04-09T13:01:36.526436Z",
     "iopub.status.idle": "2023-04-09T13:01:36.540594Z",
     "shell.execute_reply": "2023-04-09T13:01:36.538728Z"
    },
    "papermill": {
     "duration": 0.024256,
     "end_time": "2023-04-09T13:01:36.543034",
     "exception": false,
     "start_time": "2023-04-09T13:01:36.518778",
     "status": "completed"
    },
    "tags": [],
    "vscode": {
     "languageId": "r"
    }
   },
   "outputs": [],
   "source": [
    "sum_lists <- pmap(list(list1, list2), `+`)"
   ]
  },
  {
   "cell_type": "code",
   "execution_count": 15,
   "id": "5dc44c14",
   "metadata": {
    "execution": {
     "iopub.execute_input": "2023-04-09T13:01:36.558426Z",
     "iopub.status.busy": "2023-04-09T13:01:36.556760Z",
     "iopub.status.idle": "2023-04-09T13:01:36.575468Z",
     "shell.execute_reply": "2023-04-09T13:01:36.573544Z"
    },
    "papermill": {
     "duration": 0.028904,
     "end_time": "2023-04-09T13:01:36.577995",
     "exception": false,
     "start_time": "2023-04-09T13:01:36.549091",
     "status": "completed"
    },
    "tags": [],
    "vscode": {
     "languageId": "r"
    }
   },
   "outputs": [
    {
     "data": {
      "text/html": [
       "<ol>\n",
       "\t<li>7</li>\n",
       "\t<li>9</li>\n",
       "\t<li>11</li>\n",
       "\t<li>13</li>\n",
       "\t<li>15</li>\n",
       "</ol>\n"
      ],
      "text/latex": [
       "\\begin{enumerate}\n",
       "\\item 7\n",
       "\\item 9\n",
       "\\item 11\n",
       "\\item 13\n",
       "\\item 15\n",
       "\\end{enumerate}\n"
      ],
      "text/markdown": [
       "1. 7\n",
       "2. 9\n",
       "3. 11\n",
       "4. 13\n",
       "5. 15\n",
       "\n",
       "\n"
      ],
      "text/plain": [
       "[[1]]\n",
       "[1] 7\n",
       "\n",
       "[[2]]\n",
       "[1] 9\n",
       "\n",
       "[[3]]\n",
       "[1] 11\n",
       "\n",
       "[[4]]\n",
       "[1] 13\n",
       "\n",
       "[[5]]\n",
       "[1] 15\n"
      ]
     },
     "metadata": {},
     "output_type": "display_data"
    }
   ],
   "source": [
    "sum_lists"
   ]
  },
  {
   "cell_type": "markdown",
   "id": "bc9759d7",
   "metadata": {
    "papermill": {
     "duration": 0.006581,
     "end_time": "2023-04-09T13:01:36.590761",
     "exception": false,
     "start_time": "2023-04-09T13:01:36.584180",
     "status": "completed"
    },
    "tags": []
   },
   "source": [
    "The *pmap* function takes two arguments: the first is a list of lists and the second is the function to apply to the elements of the lists.\n",
    "\n",
    "That's it! You've just seen some examples of how to use the *purrr* library for functional programming in R. The *purrr* library is a powerful tool for working with data in a functional way, providing a wide range of functions for working with lists, vectors and other data structures. It allows you to perform operations on data in a concise and readable way, making your code more efficient and easier to understand. I hope you found this notebook helpful and you can start using the *purrr* library in your own projects. Keep in mind that this is just a glimpse of the capabilities of the *purrr* library, and there are many other functions and features you can explore.\n",
    "\n",
    "Keep exploring!"
   ]
  }
 ],
 "metadata": {
  "kernelspec": {
   "display_name": "R",
   "language": "R",
   "name": "ir"
  },
  "language_info": {
   "codemirror_mode": "r",
   "file_extension": ".r",
   "mimetype": "text/x-r-source",
   "name": "R",
   "pygments_lexer": "r",
   "version": "4.0.5"
  },
  "papermill": {
   "default_parameters": {},
   "duration": 4.694825,
   "end_time": "2023-04-09T13:01:36.718200",
   "environment_variables": {},
   "exception": null,
   "input_path": "__notebook__.ipynb",
   "output_path": "__notebook__.ipynb",
   "parameters": {},
   "start_time": "2023-04-09T13:01:32.023375",
   "version": "2.4.0"
  }
 },
 "nbformat": 4,
 "nbformat_minor": 5
}
